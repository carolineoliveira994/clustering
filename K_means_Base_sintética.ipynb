{
  "nbformat": 4,
  "nbformat_minor": 0,
  "metadata": {
    "colab": {
      "private_outputs": true,
      "provenance": [],
      "authorship_tag": "ABX9TyO/x0za9y7dThYDbLm/uY8D",
      "include_colab_link": true
    },
    "kernelspec": {
      "name": "python3",
      "display_name": "Python 3"
    },
    "language_info": {
      "name": "python"
    }
  },
  "cells": [
    {
      "cell_type": "markdown",
      "metadata": {
        "id": "view-in-github",
        "colab_type": "text"
      },
      "source": [
        "<a href=\"https://colab.research.google.com/github/carolineoliveira994/clustering/blob/main/K_means_Base_sint%C3%A9tica.ipynb\" target=\"_parent\"><img src=\"https://colab.research.google.com/assets/colab-badge.svg\" alt=\"Open In Colab\"/></a>"
      ]
    },
    {
      "cell_type": "markdown",
      "source": [
        "Algoritmo de Elkan\n",
        "\n",
        "* É recomendado em cenários onde o número de pontos de dados (N) é significativamente maior que o número de clusters (K).\n",
        "\n",
        "* Ele funciona aproveitando a desigualdade triangular para evitar calcular distâncias desnecessárias.\n",
        "\n",
        "* Não recomendado quando K for grande.\n",
        "\n",
        "* Necessita de clusters a priori.\n",
        "\n",
        "* Sensivel a outliers e minimo local.\n",
        "\n",
        "\n"
      ],
      "metadata": {
        "id": "H9OCcyOeu_Hc"
      }
    },
    {
      "cell_type": "code",
      "execution_count": null,
      "metadata": {
        "id": "QDzUbcl1uccJ"
      },
      "outputs": [],
      "source": [
        "import time\n",
        "import numpy as np\n",
        "import pandas as pd\n",
        "import seaborn as sns\n",
        "import matplotlib.pyplot as plt\n",
        "import matplotlib.colors\n",
        "\n",
        "\n",
        "\n",
        "from sklearn.cluster import KMeans\n",
        "from sklearn.datasets import make_moons\n",
        "from sklearn.datasets import make_blobs\n",
        "\n",
        "%matplotlib inline\n",
        "\n",
        "sns.set(style='darkgrid', context='talk', rc={'figure.figsize': (14, 8)})\n"
      ]
    },
    {
      "cell_type": "markdown",
      "source": [
        "base de dados sintetica"
      ],
      "metadata": {
        "id": "0KyKKUK8HJ5O"
      }
    },
    {
      "cell_type": "code",
      "source": [
        "X, y = make_blobs(n_samples=1000, centers=7, n_features=2, random_state=33)\n",
        "\n",
        "df = pd.DataFrame(X, columns=['x', 'y'])\n",
        "df['label'] = y\n",
        "df.head()"
      ],
      "metadata": {
        "id": "FXA4VCNey-h7"
      },
      "execution_count": null,
      "outputs": []
    },
    {
      "cell_type": "code",
      "source": [
        "_ = sns.scatterplot(x='x', y='y', data=df, hue='label', palette='rainbow', legend=False)"
      ],
      "metadata": {
        "id": "FiAelGbtHYV7"
      },
      "execution_count": null,
      "outputs": []
    },
    {
      "cell_type": "code",
      "source": [],
      "metadata": {
        "id": "0Yl9DNBMHvdh"
      },
      "execution_count": null,
      "outputs": []
    },
    {
      "cell_type": "markdown",
      "source": [
        "Testar K-Means"
      ],
      "metadata": {
        "id": "sOEIaY_4H078"
      }
    },
    {
      "cell_type": "code",
      "source": [
        "def train_and_plot(data, k=3, init='k-means++', n_init=10, max_iter=300,\n",
        "                   algorithm='auto', verbose=0, random_state=133):\n",
        "  #Copiamos os daos e removemos a coluna label\n",
        "  data_copy = data.copy()\n",
        "  data_copy.drop(columns='label', inplace=True)\n",
        "\n",
        "  model = KMeans(n_clusters=k, init=init, n_init=n_init, max_iter=max_iter,\n",
        "                 algorithm=algorithm, random_state=random_state, verbose=verbose)\n",
        "  model.fit(data_copy)\n",
        "\n",
        "  data_copy['cluster_labels'] = model.labels_\n",
        "  _ = sns.scatterplot(x='x', y='y', data=data_copy, hue='cluster_labels', palette='rainbow', legend=False)\n",
        "\n",
        "  centroids = model.cluster_centers_\n",
        "  centroids_x = centroids[:,0]\n",
        "  centroids_y = centroids[:,1]\n",
        "\n",
        "  _ = plt.scatter(centroids_x, centroids_y, color='black', s=100)\n",
        "\n",
        "  return model\n",
        ""
      ],
      "metadata": {
        "id": "h0iehR62H7Yc"
      },
      "execution_count": null,
      "outputs": []
    },
    {
      "cell_type": "markdown",
      "source": [
        "Inicialização k-means++ e a aleatória"
      ],
      "metadata": {
        "id": "sdIYXBjlMi9M"
      }
    },
    {
      "cell_type": "code",
      "source": [
        "train_and_plot(df, k=7, init='random', random_state=200)\n"
      ],
      "metadata": {
        "id": "vQ1ws-YgNyWa"
      },
      "execution_count": null,
      "outputs": []
    },
    {
      "cell_type": "code",
      "source": [
        "train_and_plot(df, k=3)\n"
      ],
      "metadata": {
        "id": "G8IGIm6wOO4O"
      },
      "execution_count": null,
      "outputs": []
    },
    {
      "cell_type": "code",
      "source": [
        "train_and_plot(df, k=3, init='random')"
      ],
      "metadata": {
        "id": "Sqj202qPOP2q"
      },
      "execution_count": null,
      "outputs": []
    },
    {
      "cell_type": "code",
      "source": [
        "train_and_plot(df, k=5, init='random')"
      ],
      "metadata": {
        "id": "La17lv3ROgX8"
      },
      "execution_count": null,
      "outputs": []
    },
    {
      "cell_type": "code",
      "source": [
        "train_and_plot(df, k=10)"
      ],
      "metadata": {
        "id": "Jtbx46oFOjMc"
      },
      "execution_count": null,
      "outputs": []
    },
    {
      "cell_type": "code",
      "source": [
        "train_and_plot(df, init='random', random_state=233)"
      ],
      "metadata": {
        "id": "wlqKvyFdO2pi"
      },
      "execution_count": null,
      "outputs": []
    },
    {
      "cell_type": "code",
      "source": [
        "train_and_plot(df, k=6)"
      ],
      "metadata": {
        "id": "PDt7byEQZnrX"
      },
      "execution_count": null,
      "outputs": []
    },
    {
      "cell_type": "code",
      "source": [
        "train_and_plot(df, k=10)"
      ],
      "metadata": {
        "id": "vFziRiqOZskU"
      },
      "execution_count": null,
      "outputs": []
    },
    {
      "cell_type": "code",
      "source": [
        "train_and_plot(df, k=10, init='random', random_state=233)"
      ],
      "metadata": {
        "id": "2umNsUNdZv0_"
      },
      "execution_count": null,
      "outputs": []
    },
    {
      "cell_type": "markdown",
      "source": [
        "Melhor valor Elbow"
      ],
      "metadata": {
        "id": "L5yeenEAPEQN"
      }
    },
    {
      "cell_type": "code",
      "source": [
        "%%time\n",
        "\n",
        "def do_elbow_and_plot(df, max_clusters):\n",
        "  min_clusters = 1\n",
        "  clusters_range = range(min_clusters, max_clusters + 1)\n",
        "  inertias = []\n",
        "\n",
        "  for k in clusters_range:\n",
        "    model = KMeans(n_clusters=k, random_state=33)\n",
        "    model.fit(df)\n",
        "\n",
        "    cur_inertia = model.inertia_\n",
        "    inertias.append(cur_inertia)\n",
        "\n",
        "    _ = plt.plot(clusters_range, inertias, '-o')\n",
        "    _ = plt.title('O método elbow')\n",
        "    _ = plt.xlabel('Número de clusters')\n",
        "    _ = plt.ylabel('Inércia')\n",
        "    _ = plt.xticks(clusters_range)\n",
        "    plt.show()"
      ],
      "metadata": {
        "id": "eh2348trPKHy"
      },
      "execution_count": null,
      "outputs": []
    },
    {
      "cell_type": "code",
      "source": [
        "def do_elbow_and_plot(df, max_clusters):\n",
        "  min_clusters = 1\n",
        "  clusters_range = range(min_clusters, max_clusters + 1)\n",
        "  inertias = []\n",
        "\n",
        "  for k in clusters_range:\n",
        "    model = KMeans(n_clusters=k, random_state=33)\n",
        "    model.fit(df)\n",
        "    cur_inertia = model.inertia_\n",
        "    inertias.append(cur_inertia)\n",
        "\n",
        "  plt.plot(clusters_range, inertias, '-o')  # Remove underscore\n",
        "  plt.title('O método elbow')\n",
        "  plt.xlabel('Número de clusters')\n",
        "  plt.ylabel('Inércia')\n",
        "  plt.xticks(clusters_range)\n",
        "  plt.show()\n",
        "\n",
        "  # Return the calculated inertias for further use (optional)\n",
        "  return inertias\n"
      ],
      "metadata": {
        "id": "yPgafo9AaJzQ"
      },
      "execution_count": null,
      "outputs": []
    },
    {
      "cell_type": "code",
      "source": [
        "do_elbow_and_plot(df, max_clusters=10)"
      ],
      "metadata": {
        "id": "EEx2pDRLTTsQ"
      },
      "execution_count": null,
      "outputs": []
    },
    {
      "cell_type": "code",
      "source": [
        "do_elbow_and_plot(df, max_clusters=int(np.sqrt(len(df))))"
      ],
      "metadata": {
        "id": "YvurSCMVTTp6"
      },
      "execution_count": null,
      "outputs": []
    },
    {
      "cell_type": "code",
      "source": [
        "X, y = make_blobs(n_samples=1000000, centers=7, n_features=2,\n",
        "                  random_state=33)\n",
        "\n",
        "df = pd.DataFrame(X, columns=['x', 'y'])\n",
        "\n",
        "df.head()"
      ],
      "metadata": {
        "id": "Th6yt_duTTm7"
      },
      "execution_count": null,
      "outputs": []
    },
    {
      "cell_type": "code",
      "source": [
        "start = time.time()\n",
        "model = KMeans(n_clusters=7, algorithm='full', random_state=33)\n",
        "model.fit(df)\n",
        "print(time.time() - start)\n",
        "print('Inércia:', model.inertia_)"
      ],
      "metadata": {
        "id": "ejTQSdD3TTj6"
      },
      "execution_count": null,
      "outputs": []
    },
    {
      "cell_type": "markdown",
      "source": [
        "limitações"
      ],
      "metadata": {
        "id": "VR9op2kdcF_W"
      }
    },
    {
      "cell_type": "code",
      "source": [
        "transformation = [[0.3, -0.3], [-1.2, 0.2]]\n",
        "\n",
        "X, y = make_blobs(n_samples=1000, centers=7, n_features=2,\n",
        "                  random_state=170)\n",
        "\n",
        "df_transformed = pd.DataFrame(np.dot(X, transformation), columns=['x', 'y'])\n",
        "df_transformed['label'] = y\n",
        "\n",
        "df_transformed.head()"
      ],
      "metadata": {
        "id": "wfdX8lPUTTgs"
      },
      "execution_count": null,
      "outputs": []
    },
    {
      "cell_type": "code",
      "source": [
        "_ = sns.scatterplot(x='x', y='y', data=df_transformed, hue='label', palette='rainbow', legend=False)"
      ],
      "metadata": {
        "id": "vVEHwf0FTTXf"
      },
      "execution_count": null,
      "outputs": []
    },
    {
      "cell_type": "code",
      "source": [
        "train_and_plot(df_transformed, k=7)"
      ],
      "metadata": {
        "id": "cBgtBlO7cNsE"
      },
      "execution_count": null,
      "outputs": []
    },
    {
      "cell_type": "code",
      "source": [
        "X, y = make_moons(300, noise=.05, random_state=33)\n",
        "\n",
        "df_moon = pd.DataFrame(X, columns=['x', 'y'])\n",
        "df_moon['label'] = y\n",
        "\n",
        "df_moon.head()"
      ],
      "metadata": {
        "id": "h1p5_7sbcPzU"
      },
      "execution_count": null,
      "outputs": []
    },
    {
      "cell_type": "code",
      "source": [
        "_ = sns.scatterplot(x='x', y='y', data=df_moon, hue='label', palette='rainbow', legend=False)"
      ],
      "metadata": {
        "id": "zHJm1w4NcVlv"
      },
      "execution_count": null,
      "outputs": []
    },
    {
      "cell_type": "code",
      "source": [
        "train_and_plot(df_moon, k=2)"
      ],
      "metadata": {
        "id": "p7hNjB5lcYtL"
      },
      "execution_count": null,
      "outputs": []
    },
    {
      "cell_type": "code",
      "source": [
        "train_and_plot(df_moon, k=20)"
      ],
      "metadata": {
        "id": "13Yt6PTQcaNZ"
      },
      "execution_count": null,
      "outputs": []
    },
    {
      "cell_type": "code",
      "source": [
        "start = time.time()"
      ],
      "metadata": {
        "id": "UTnsKRDnPgd9"
      },
      "execution_count": null,
      "outputs": []
    }
  ]
}