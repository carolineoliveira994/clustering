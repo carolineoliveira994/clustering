{
  "nbformat": 4,
  "nbformat_minor": 0,
  "metadata": {
    "colab": {
      "private_outputs": true,
      "provenance": [],
      "authorship_tag": "ABX9TyPk858P2avHC8ZB+kebRPXE",
      "include_colab_link": true
    },
    "kernelspec": {
      "name": "python3",
      "display_name": "Python 3"
    },
    "language_info": {
      "name": "python"
    }
  },
  "cells": [
    {
      "cell_type": "markdown",
      "metadata": {
        "id": "view-in-github",
        "colab_type": "text"
      },
      "source": [
        "<a href=\"https://colab.research.google.com/github/carolineoliveira994/clustering/blob/main/k_medoids.ipynb\" target=\"_parent\"><img src=\"https://colab.research.google.com/assets/colab-badge.svg\" alt=\"Open In Colab\"/></a>"
      ]
    },
    {
      "cell_type": "code",
      "source": [
        "!pip install scikit-learn-extra\n",
        "\n",
        "from sklearn.datasets import make_blobs\n",
        "from sklearn_extra.cluster import KMedoids\n",
        "\n",
        "get_ipython().run_line_magic('matplotlib', 'inline')  # Enable inline plotting\n",
        "# ... rest of your code using KMedoids\n"
      ],
      "metadata": {
        "id": "E7vF5fVeZp1r"
      },
      "execution_count": null,
      "outputs": []
    },
    {
      "cell_type": "code",
      "execution_count": null,
      "metadata": {
        "id": "z-E3mJoDYvot"
      },
      "outputs": [],
      "source": [
        "import time\n",
        "import pandas as pd\n",
        "import seaborn as sns\n",
        "import matplotlib.pyplot as plt\n",
        "import matplotlib.colors\n",
        "\n",
        "from sklearn.cluster import KMeans\n",
        "from sklearn.datasets import make_blobs\n",
        "\n",
        "from sklearn_extra.cluster import KMedoids\n",
        "\n",
        "%matplotlib inline\n",
        "\n",
        "sns.set(style='darkgrid', context='talk', rc={'figure.figsize': (14, 8)})"
      ]
    },
    {
      "cell_type": "code",
      "source": [
        "X, y = make_blobs(n_samples=50, centers=3, n_features=2, random_state=53)\n",
        "\n",
        "df = pd.DataFrame(X, columns=['x', 'y'])\n",
        "df['label'] = y\n",
        "df.head()"
      ],
      "metadata": {
        "id": "7LyqUy9HZwuc"
      },
      "execution_count": null,
      "outputs": []
    },
    {
      "cell_type": "code",
      "source": [
        "_ = sns.scatterplot(x='x', y='y', data=df, hue='label', palette='rainbow', legend=False)"
      ],
      "metadata": {
        "id": "M0mXVWbjbHLW"
      },
      "execution_count": null,
      "outputs": []
    },
    {
      "cell_type": "code",
      "source": [
        "def train_and_plot_kmeans(data, k=3, init='k-means++', n_init=10, max_iter=300,\n",
        "                          algorithm='auto', verbose=0, random_state=3):\n",
        "\n",
        "data_copy = data.copy()\n",
        "data_copy.drop(columns='label', inplace=True)\n",
        "\n",
        "model = KMedoids(n_clusters=k, init=init, n_init=n_init, max_iter=max_iter,\n",
        "                   algorithm=algorithm, random_state=random_state, verbose=verbose)\n",
        "\n",
        "model.fit(data_copy)\n",
        "\n",
        "_ = sns.scatterplot(x='x', y='y', data=data_copy, hue='cluster_labels', palette='rainbow', legend=False)\n",
        "\n",
        "    medoids = model.cluster_centers_\n",
        "    medoids_x = medoids[:,0]\n",
        "    medoids_y = medoids[:,1]\n",
        "\n",
        "    _ = plt.scatter(medoids_x, medoids_y, color=medoid_color, s=350, marker='*')"
      ],
      "metadata": {
        "id": "L5LLI4eebYU8"
      },
      "execution_count": null,
      "outputs": []
    }
  ]
}