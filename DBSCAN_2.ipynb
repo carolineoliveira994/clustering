{
  "nbformat": 4,
  "nbformat_minor": 0,
  "metadata": {
    "colab": {
      "private_outputs": true,
      "provenance": [],
      "authorship_tag": "ABX9TyON5reFkNMNGLVdqq+GoTrf",
      "include_colab_link": true
    },
    "kernelspec": {
      "name": "python3",
      "display_name": "Python 3"
    },
    "language_info": {
      "name": "python"
    }
  },
  "cells": [
    {
      "cell_type": "markdown",
      "metadata": {
        "id": "view-in-github",
        "colab_type": "text"
      },
      "source": [
        "<a href=\"https://colab.research.google.com/github/carolineoliveira994/clustering/blob/main/DBSCAN_2.ipynb\" target=\"_parent\"><img src=\"https://colab.research.google.com/assets/colab-badge.svg\" alt=\"Open In Colab\"/></a>"
      ]
    },
    {
      "cell_type": "code",
      "source": [],
      "metadata": {
        "id": "xvmZvmlcmSZh"
      },
      "execution_count": null,
      "outputs": []
    },
    {
      "cell_type": "markdown",
      "source": [
        "* Utilização do algoritmo DBSCAN com diferentes parâmetros.\n",
        "* Base de dados sintéticas com diferentes *formatos*"
      ],
      "metadata": {
        "id": "X5CKh4MqmZO3"
      }
    },
    {
      "cell_type": "code",
      "execution_count": null,
      "metadata": {
        "id": "11DJgJDdgYWJ"
      },
      "outputs": [],
      "source": [
        "import time\n",
        "import numpy as np\n",
        "import pandas as pd\n",
        "import seaborn as sns\n",
        "import matplotlib.pyplot as plt\n",
        "import matplotlib.colors\n",
        "\n",
        "from sklearn.cluster import DBSCAN\n",
        "from sklearn.datasets import make_blobs\n",
        "from sklearn.datasets import make_moons\n",
        "from sklearn.datasets import make_circles\n",
        "from sklearn.datasets import make_s_curve\n",
        "\n",
        "%matplotlib inline\n",
        "\n",
        "sns.set(style='darkgrid', context='talk', rc={'figure.figsize': (14, 8)})"
      ]
    },
    {
      "cell_type": "code",
      "source": [
        "def train_and_plot(data, eps=0.5, min_samples=5):\n",
        "\n",
        "  data_copy = data.copy()\n",
        "  data_copy.drop(columns='label', inplace=True)\n",
        "\n",
        "  model = DBSCAN(eps=eps, min_samples=min_samples)\n",
        "  model.fit(data_copy)\n",
        "\n",
        "  data_copy['cluster_labels'] = model.labels_\n",
        "  _ - sns.scatterplot(x='x', y='y', data=data_copy, hue='cluster_labels', pallete='rainbow', legend=False)"
      ],
      "metadata": {
        "id": "-yKfDN7WmRes"
      },
      "execution_count": null,
      "outputs": []
    },
    {
      "cell_type": "code",
      "source": [
        "X, y = make_circles(n_samples=1000, factor=0.3, noise=0.1)\n",
        "\n",
        "df = pd.DataFrame(X, columns=['x', 'y'])\n",
        "df['label'] = y\n",
        "\n",
        "df.head()"
      ],
      "metadata": {
        "id": "fFjbH4wsniLV"
      },
      "execution_count": null,
      "outputs": []
    },
    {
      "cell_type": "code",
      "source": [
        "_ = sns.scatterplot(x='x', y='y', data=df, hue='label', palette='rainbow', legend=False)\n"
      ],
      "metadata": {
        "id": "jBMU7JVSpRUJ"
      },
      "execution_count": null,
      "outputs": []
    },
    {
      "cell_type": "code",
      "source": [
        "eps = 0.15\n",
        "min_samples = 5\n",
        "\n",
        "train_and_plot(df, eps, min_samples)"
      ],
      "metadata": {
        "id": "yzeUSgctpq_p"
      },
      "execution_count": null,
      "outputs": []
    },
    {
      "cell_type": "code",
      "source": [
        "transformation = [[1.3, 2.3], [1.2, 5.2]]\n",
        "\n",
        "X, y = make_blobs(n_samples=1000, centers=7, n_features=2,\n",
        "                  random_state=170)\n",
        "\n",
        "df_transformed = pd.DataFrame(np.dot(X, transformation), columns=['x', 'y'])\n",
        "df_transformed['label'] = y\n",
        "\n",
        "df_transformed.head()"
      ],
      "metadata": {
        "id": "eMVgkdkProHQ"
      },
      "execution_count": null,
      "outputs": []
    },
    {
      "cell_type": "code",
      "source": [
        "_ = sns.scatterplot(x='x', y='y', data=df_transformed, hue='label', palette='rainbow', legend=False)"
      ],
      "metadata": {
        "id": "uETeVbLkrq4X"
      },
      "execution_count": null,
      "outputs": []
    },
    {
      "cell_type": "code",
      "source": [
        "train_and_plot(df_transformed, eps=1.5, min_samples=5)"
      ],
      "metadata": {
        "id": "HknagzbprtA_"
      },
      "execution_count": null,
      "outputs": []
    }
  ]
}