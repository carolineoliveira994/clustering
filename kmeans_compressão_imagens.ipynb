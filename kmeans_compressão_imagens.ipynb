{
  "nbformat": 4,
  "nbformat_minor": 0,
  "metadata": {
    "colab": {
      "private_outputs": true,
      "provenance": [],
      "authorship_tag": "ABX9TyN5SFHOePezamxeH/Jt5Boc",
      "include_colab_link": true
    },
    "kernelspec": {
      "name": "python3",
      "display_name": "Python 3"
    },
    "language_info": {
      "name": "python"
    }
  },
  "cells": [
    {
      "cell_type": "markdown",
      "metadata": {
        "id": "view-in-github",
        "colab_type": "text"
      },
      "source": [
        "<a href=\"https://colab.research.google.com/github/carolineoliveira994/clustering/blob/main/kmeans_compress%C3%A3o_imagens.ipynb\" target=\"_parent\"><img src=\"https://colab.research.google.com/assets/colab-badge.svg\" alt=\"Open In Colab\"/></a>"
      ]
    },
    {
      "cell_type": "code",
      "execution_count": null,
      "metadata": {
        "id": "rqANtTkEMw8Q"
      },
      "outputs": [],
      "source": [
        "import cv2\n",
        "import numpy as np\n",
        "import seaborn as sns\n",
        "import matplotlib.pyplot as plt\n",
        "\n",
        "from sklearn.cluster import KMeans\n",
        "from sklearn.cluster import MiniBatchKMeans\n",
        "\n",
        "%matplotlib inline\n",
        "\n",
        "sns.set(style='white', context='talk', rc={'figure.figsize': (14, 8)})"
      ]
    },
    {
      "cell_type": "code",
      "source": [
        "img = cv2.imread('/datalab/cat1.jpg')\n",
        "img = cv2.cvtColor(img, cv2.COLOR_BGR2RGB)\n",
        "plt.imshow(img)"
      ],
      "metadata": {
        "id": "iRhVw1FrNuND"
      },
      "execution_count": null,
      "outputs": []
    },
    {
      "cell_type": "code",
      "source": [
        "img = cv2.cvtColor(img, cv2.COLOR_RGB2LAB)"
      ],
      "metadata": {
        "id": "y6l-M7hpQz_L"
      },
      "execution_count": null,
      "outputs": []
    },
    {
      "cell_type": "markdown",
      "source": [],
      "metadata": {
        "id": "W05Scc4gRPPQ"
      }
    },
    {
      "cell_type": "code",
      "source": [
        "height = img.shape[0]\n",
        "width = img.shape[1]\n",
        "\n",
        "print(f'Altura: {height}px')\n",
        "print(f'Largura: {width}px')\n",
        "\n"
      ],
      "metadata": {
        "id": "mHgdwZHDRPud"
      },
      "execution_count": null,
      "outputs": []
    },
    {
      "cell_type": "code",
      "source": [
        "img_reshaped = img.reshape((height * width, 3))\n",
        "print(img.shape)\n",
        "print(img_reshaped.shape)"
      ],
      "metadata": {
        "id": "KKgMHma0RlzN"
      },
      "execution_count": null,
      "outputs": []
    },
    {
      "cell_type": "code",
      "source": [
        "model = KMeans(n_clusters=5)"
      ],
      "metadata": {
        "id": "AN57wSlCR2cM"
      },
      "execution_count": null,
      "outputs": []
    },
    {
      "cell_type": "code",
      "source": [
        "cluster_labels = model.fit_predict(img_reshaped)\n",
        "img_compressed = model.cluster_centers_.astype('uint8')[cluster_labels]"
      ],
      "metadata": {
        "id": "onkU_-rSSPeB"
      },
      "execution_count": null,
      "outputs": []
    },
    {
      "cell_type": "code",
      "source": [
        "img_compressed = img_compressed.reshape((height, width, 3))\n",
        "img_compressed = cv2.cvtColor(img_compressed, cv2.COLOR_LAB2RGB)\n",
        "plt.imshow(img_compressed)"
      ],
      "metadata": {
        "id": "lRl08kHlS54A"
      },
      "execution_count": null,
      "outputs": []
    },
    {
      "cell_type": "code",
      "source": [],
      "metadata": {
        "id": "m9YDHlUQTg9i"
      },
      "execution_count": null,
      "outputs": []
    },
    {
      "cell_type": "code",
      "source": [
        "img = cv2.cvtColor(img, cv2.COLOR_LAB2RGB)\n",
        "img_compressed = cv2.cvtColor(img_compressed, cv2.COLOR_LAB2RGB)\n",
        "plt.imshow(np.hstack([img, img_compressed]))"
      ],
      "metadata": {
        "id": "rjfrCmrGTVxK"
      },
      "execution_count": null,
      "outputs": []
    },
    {
      "cell_type": "code",
      "source": [
        "img = cv2.cvtColor(img, cv2.COLOR_LAB2RGB)\n",
        "plt.imshow(np.hstack([img, img_compressed]))"
      ],
      "metadata": {
        "id": "ZoX1P1VZUtXC"
      },
      "execution_count": null,
      "outputs": []
    },
    {
      "cell_type": "code",
      "source": [
        "def do_compression_with_kmeans(img, k=10):\n",
        "  img = cv2.cvtColor(img, cv2.COLOR_RGB2LAB)\n",
        "\n",
        "  height = img.shape[0]\n",
        "  width = img.shape[1]\n",
        "\n",
        "  img_reshaped = img.reshape((height * width, 3))\n",
        "\n",
        "  model = MiniBatchKMeans(n_clusters=k)\n",
        "\n",
        "  cluster_labels = model.fit_predict(img_reshaped)\n",
        "  img_compressed = model.cluster_centers_.astype('uint8')[cluster_labels]\n",
        "\n",
        "  img_compressed  = img_compressed.reshape((height, width, 3))\n",
        "  img_compressed  = cv2.cvtColor(img_compressed, cv2.COLOR_LAB2RGB, cv2.CV_8U)\n",
        "\n",
        "  return img_compressed\n",
        "\n"
      ],
      "metadata": {
        "id": "YSeXcCb-UAeK"
      },
      "execution_count": null,
      "outputs": []
    },
    {
      "cell_type": "code",
      "source": [
        "def plot_images(img_a, img_b):\n",
        "    plt.imshow(np.hstack([img, img_compressed]))\n",
        "\n",
        "def load_image(path):\n",
        "    img = cv2.imread(path)\n",
        "    img = cv2.cvtColor(img, cv2.COLOR_BGR2RGB)\n",
        "\n",
        "    return img"
      ],
      "metadata": {
        "id": "d_Ob7ndkUN5o"
      },
      "execution_count": null,
      "outputs": []
    },
    {
      "cell_type": "code",
      "source": [
        "path = '/datalab/cat2.jpg'\n",
        "img = load_image(path)"
      ],
      "metadata": {
        "id": "VFa29__LWdhD"
      },
      "execution_count": null,
      "outputs": []
    },
    {
      "cell_type": "code",
      "source": [
        "img_compressed = do_compression_with_kmeans(img, k=10)\n",
        "plot_images(img, img_compressed)"
      ],
      "metadata": {
        "id": "WERmBo-HWiLC"
      },
      "execution_count": null,
      "outputs": []
    },
    {
      "cell_type": "code",
      "source": [
        "img_compressed = do_compression_with_kmeans(img, k=2)\n",
        "plot_images(img, img_compressed)"
      ],
      "metadata": {
        "id": "Qs744qQkWkc0"
      },
      "execution_count": null,
      "outputs": []
    },
    {
      "cell_type": "code",
      "source": [
        "img_compressed = do_compression_with_kmeans(img, k=5)\n",
        "plot_images(img, img_compressed)"
      ],
      "metadata": {
        "id": "Y5TrnOdIWm4d"
      },
      "execution_count": null,
      "outputs": []
    },
    {
      "cell_type": "code",
      "source": [
        "path = '/datalab/beach.jpg'\n",
        "img = load_image(path)"
      ],
      "metadata": {
        "id": "UQXjOkruWpx6"
      },
      "execution_count": null,
      "outputs": []
    },
    {
      "cell_type": "code",
      "source": [
        "img_compressed = do_compression_with_kmeans(img, k=10)\n",
        "plot_images(img, img_compressed)"
      ],
      "metadata": {
        "id": "08phRNS4Wu7U"
      },
      "execution_count": null,
      "outputs": []
    },
    {
      "cell_type": "code",
      "source": [
        "img_compressed = do_compression_with_kmeans(img, k=5)\n",
        "plot_images(img, img_compressed)"
      ],
      "metadata": {
        "id": "p2xYJ77GWxY7"
      },
      "execution_count": null,
      "outputs": []
    },
    {
      "cell_type": "code",
      "source": [
        "img_compressed = do_compression_with_kmeans(img, k=2)\n",
        "plot_images(img, img_compressed)"
      ],
      "metadata": {
        "id": "liBeQKptWy7f"
      },
      "execution_count": null,
      "outputs": []
    },
    {
      "cell_type": "code",
      "source": [
        "img_compressed = do_compression_with_kmeans(img, k=50)\n",
        "plot_images(img, img_compressed)"
      ],
      "metadata": {
        "id": "OzyZ489tW0_h"
      },
      "execution_count": null,
      "outputs": []
    }
  ]
}