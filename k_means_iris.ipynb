{
  "nbformat": 4,
  "nbformat_minor": 0,
  "metadata": {
    "colab": {
      "private_outputs": true,
      "provenance": [],
      "authorship_tag": "ABX9TyMhMqhtPn3XHNN22RLXezGf",
      "include_colab_link": true
    },
    "kernelspec": {
      "name": "python3",
      "display_name": "Python 3"
    },
    "language_info": {
      "name": "python"
    }
  },
  "cells": [
    {
      "cell_type": "markdown",
      "metadata": {
        "id": "view-in-github",
        "colab_type": "text"
      },
      "source": [
        "<a href=\"https://colab.research.google.com/github/carolineoliveira994/clustering/blob/main/k_means_iris.ipynb\" target=\"_parent\"><img src=\"https://colab.research.google.com/assets/colab-badge.svg\" alt=\"Open In Colab\"/></a>"
      ]
    },
    {
      "cell_type": "code",
      "execution_count": null,
      "metadata": {
        "id": "JBHK8qTO48Om"
      },
      "outputs": [],
      "source": []
    },
    {
      "cell_type": "markdown",
      "source": [
        "## Aprendizado Não Supervisionado - Agrupamento de Dados\n"
      ],
      "metadata": {
        "id": "vIB5ymWY6YX2"
      }
    },
    {
      "cell_type": "code",
      "source": [
        "import numpy as np\n",
        "import pandas as pd\n",
        "import seaborn as sns\n",
        "import matplotlib.pyplot as plt\n",
        "\n",
        "from sklearn.cluster import KMeans\n",
        "\n",
        "%matplotlib inline\n",
        "\n",
        "plt.rcParams['figure.figsize'] = (14, 8)\n",
        "\n",
        "sns.set(context='talk')"
      ],
      "metadata": {
        "id": "n8w89DhG5Fg2"
      },
      "execution_count": null,
      "outputs": []
    },
    {
      "cell_type": "code",
      "source": [
        "df = pd.read_csv('/content/iris.data')\n",
        "df.head()"
      ],
      "metadata": {
        "id": "n11aDV3P6nIz"
      },
      "execution_count": null,
      "outputs": []
    },
    {
      "cell_type": "code",
      "source": [],
      "metadata": {
        "id": "TLIXcPtI6nQW"
      },
      "execution_count": null,
      "outputs": []
    },
    {
      "cell_type": "markdown",
      "source": [
        "### Método elbow\n",
        "\n",
        "Para escolher o melhor número de clusters"
      ],
      "metadata": {
        "id": "yTLr2Q6O607j"
      }
    },
    {
      "cell_type": "code",
      "source": [
        "_ = plt.plot(clusters_range, inertias, '-o')\n",
        "_ = plt.title('O método elbow')\n",
        "_ = plt.xlabel('Número de clusters')\n",
        "_ = plt.ylabel('Inércia')\n",
        "_ = plt.xticks(clusters_range)\n",
        "plt.show()"
      ],
      "metadata": {
        "id": "j_TjkOZ56nTx"
      },
      "execution_count": null,
      "outputs": []
    },
    {
      "cell_type": "code",
      "source": [
        "k = 3\n",
        "\n",
        "model = KMeans(n_clusters=k)\n",
        "model.fit(df_train)"
      ],
      "metadata": {
        "id": "42_QGfVW6nW9"
      },
      "execution_count": null,
      "outputs": []
    },
    {
      "cell_type": "code",
      "source": [
        "columns_names = df_train.columns\n",
        "\n",
        "dim_x = 0\n",
        "dim_y = 1\n",
        "\n",
        "xs = df_train[df_train.columns[dim_x]]\n",
        "ys = df_train[df_train.columns[dim_y]]\n",
        "\n",
        "color_dict = {\n",
        "    'Iris-setosa': 'blue',\n",
        "    'Iris-versicolor': 'green',\n",
        "    'Iris-virginica': 'orange'\n",
        "}\n",
        "\n",
        "\n",
        "for (x, y, l) in zip(xs, ys, df_labels):\n",
        "    _ = plt.scatter(x, y, alpha=0.8, color=color_dict[l])\n",
        "\n",
        "_ = plt.xlabel(columns_names[dim_x])\n",
        "_ = plt.ylabel(columns_names[dim_y])\n",
        "\n",
        "centroids = model.cluster_centers_\n",
        "centroids_x = centroids[:,dim_x]\n",
        "centroids_y = centroids[:,dim_y]\n",
        "\n",
        "_ = plt.scatter(centroids_x, centroids_y, color='red', s=80)"
      ],
      "metadata": {
        "id": "YZTPls4h7oCd"
      },
      "execution_count": null,
      "outputs": []
    },
    {
      "cell_type": "code",
      "source": [
        "model.cluster_centers_.shape"
      ],
      "metadata": {
        "id": "WlkjCy7C7syX"
      },
      "execution_count": null,
      "outputs": []
    }
  ]
}