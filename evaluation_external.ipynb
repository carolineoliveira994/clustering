{
  "nbformat": 4,
  "nbformat_minor": 0,
  "metadata": {
    "colab": {
      "private_outputs": true,
      "provenance": [],
      "authorship_tag": "ABX9TyOGeJ2oXJyNxwKtjvbyXTqU"
    },
    "kernelspec": {
      "name": "python3",
      "display_name": "Python 3"
    },
    "language_info": {
      "name": "python"
    }
  },
  "cells": [
    {
      "cell_type": "markdown",
      "source": [
        "### Avaliação de Agrupamento de Dados\n",
        "\n",
        "* Utilização do algoritmo K-means com diferentes parâmetros.\n",
        "* Base de dados sintéticas\n",
        "* Comparações das diferentes execuções usando índice de avaliação externo."
      ],
      "metadata": {
        "id": "7eE98G1wstIE"
      }
    },
    {
      "cell_type": "code",
      "source": [
        "import time\n",
        "import numpy as np\n",
        "import pandas as pd\n",
        "import seaborn as sns\n",
        "import matplotlib.pyplot as plt\n",
        "import matplotlib.colors\n",
        "\n",
        "from sklearn.cluster import KMeans\n",
        "from sklearn.datasets import make_moons\n",
        "from sklearn.datasets import make_blobs\n",
        "\n",
        "from sklearn.metrics import adjusted_rand_score\n",
        "\n",
        "%matplotlib inline\n",
        "\n",
        "sns.set(style='darkgrid', context='talk', rc={'figure.figsize': (14, 8)})"
      ],
      "metadata": {
        "id": "6cRKtPB4suau"
      },
      "execution_count": null,
      "outputs": []
    },
    {
      "cell_type": "code",
      "source": [
        "X, y = make_blobs(n_samples=1000, centers=7, n_features=2, random_state=0)\n",
        "\n",
        "df = pd.DataFrame(X, columns=['x', 'y'])\n",
        "df['label'] = y\n",
        "\n",
        "df.head()"
      ],
      "metadata": {
        "id": "h2RllGsDs5tj"
      },
      "execution_count": null,
      "outputs": []
    },
    {
      "cell_type": "code",
      "source": [
        "_ = sns.scatterplot(x='x', y='y', data=df, hue='label', palette='rainbow', legend=False)"
      ],
      "metadata": {
        "id": "2AMbaXSXuNf_"
      },
      "execution_count": null,
      "outputs": []
    },
    {
      "cell_type": "code",
      "source": [
        "def train_and_plot(data, k=3, init='k-means++', n_init=10, max_iter=300,\n",
        "                   algorithm='auto', verbose=0, random_state=133):\n",
        "\n",
        "  data_copy = data.copy()\n",
        "  data_copy.drop(columns='label', inplace=True)\n",
        "\n",
        "\n",
        "  model = KMeans(n_clusters=k, init=init, n_init=n_init, max_iter=max_iter,\n",
        "                 algorithm=algorithm, random_state=random_state, verbose=verbose)\n",
        "  model.fit(data_copy)\n",
        "\n",
        "  data_copy['cluster_labels'] = model.labels_\n",
        "  _ = sns.scatterplot(x='x', y='y', data=data_copy, hue='cluster_labels', palette='rainbow', legend=False)\n",
        "\n",
        "\n",
        "  centroids = model.cluster_centers_\n",
        "  centroids_x = centroids[:,0]\n",
        "  centroids_y = centroids[:,1]\n",
        "\n",
        "  _ = plt.scatter(centroids_x, centroids_y, color='black', s=100)\n",
        "\n",
        "  return model, model.labels_"
      ],
      "metadata": {
        "id": "RYihzJI0vNAI"
      },
      "execution_count": null,
      "outputs": []
    },
    {
      "cell_type": "code",
      "source": [
        "_, clusters_labels = train_and_plot(df, k=7)"
      ],
      "metadata": {
        "id": "dZjbHJTjzWnN"
      },
      "execution_count": null,
      "outputs": []
    },
    {
      "cell_type": "markdown",
      "source": [
        "#### Adjusted Rand Index"
      ],
      "metadata": {
        "id": "g6d--O3l1WL9"
      }
    },
    {
      "cell_type": "code",
      "source": [
        "_, clusters_labels = train_and_plot(df, k=7)"
      ],
      "metadata": {
        "id": "MYbXxXjD1OrF"
      },
      "execution_count": null,
      "outputs": []
    },
    {
      "cell_type": "code",
      "source": [
        "print('Adjusted Rand Index', round(adjusted_rand_score(y, clusters_labels), 4))"
      ],
      "metadata": {
        "id": "cbYBwArQ1aA6"
      },
      "execution_count": null,
      "outputs": []
    },
    {
      "cell_type": "markdown",
      "source": [
        "Com inicialização aleatória, onde grupos resultantes são menos similares ao ground truth."
      ],
      "metadata": {
        "id": "nfpkOLg11fYt"
      }
    },
    {
      "cell_type": "code",
      "source": [
        "_, clusters_labels = train_and_plot(df, k=7, init='random', random_state=100)"
      ],
      "metadata": {
        "id": "x86YQTP11gAd"
      },
      "execution_count": null,
      "outputs": []
    },
    {
      "cell_type": "code",
      "source": [
        "print('Adjusted Rand Index', round(adjusted_rand_score(y, clusters_labels), 4))"
      ],
      "metadata": {
        "id": "W3H1cvQ51igz"
      },
      "execution_count": null,
      "outputs": []
    },
    {
      "cell_type": "code",
      "source": [
        "_, clusters_labels = train_and_plot(df, k=6, init='random', random_state=400)"
      ],
      "metadata": {
        "id": "7DjkrnbA1kZ7"
      },
      "execution_count": null,
      "outputs": []
    },
    {
      "cell_type": "code",
      "source": [
        "print('Adjusted Rand Index', round(adjusted_rand_score(y, clusters_labels), 4))"
      ],
      "metadata": {
        "id": "am2Hx0qU1l9-"
      },
      "execution_count": null,
      "outputs": []
    },
    {
      "cell_type": "markdown",
      "source": [
        "Com número de grupos incorreto, onde a quantidade de grupos resultantes é menor do que a quantidade de grupos real."
      ],
      "metadata": {
        "id": "ZgWlWlLS1oAX"
      }
    },
    {
      "cell_type": "code",
      "source": [
        "_, clusters_labels = train_and_plot(df, k=3)"
      ],
      "metadata": {
        "id": "HdzEVYdM1oer"
      },
      "execution_count": null,
      "outputs": []
    },
    {
      "cell_type": "code",
      "source": [
        "print('Adjusted Rand Index', round(adjusted_rand_score(y, clusters_labels), 4))"
      ],
      "metadata": {
        "id": "08M2Jlb_1rDx"
      },
      "execution_count": null,
      "outputs": []
    },
    {
      "cell_type": "markdown",
      "source": [
        "Com número de grupos incorreto, onde a quantidade de grupos resultantes é maior do que a quantidade de grupos real."
      ],
      "metadata": {
        "id": "_f7kWG4A1tCb"
      }
    },
    {
      "cell_type": "code",
      "source": [
        "_, clusters_labels = train_and_plot(df, k=30)"
      ],
      "metadata": {
        "id": "x9DMIZOU1ui9"
      },
      "execution_count": null,
      "outputs": []
    }
  ]
}