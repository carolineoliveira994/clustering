{
  "nbformat": 4,
  "nbformat_minor": 0,
  "metadata": {
    "colab": {
      "private_outputs": true,
      "provenance": [],
      "authorship_tag": "ABX9TyPC3i+7bPL9/Qpr59I1SAXZ",
      "include_colab_link": true
    },
    "kernelspec": {
      "name": "python3",
      "display_name": "Python 3"
    },
    "language_info": {
      "name": "python"
    }
  },
  "cells": [
    {
      "cell_type": "markdown",
      "metadata": {
        "id": "view-in-github",
        "colab_type": "text"
      },
      "source": [
        "<a href=\"https://colab.research.google.com/github/carolineoliveira994/clustering/blob/main/por_onde_come%C3%A7ar.ipynb\" target=\"_parent\"><img src=\"https://colab.research.google.com/assets/colab-badge.svg\" alt=\"Open In Colab\"/></a>"
      ]
    },
    {
      "cell_type": "markdown",
      "source": [
        "sempre comece por um baseline (modelo mais simples)\n",
        "\n",
        "1. faz o minimo, aplica um algoritmo basicos, e calcula metricas\n",
        "2. a pártir dai melhorar pre processamento, algoritmo...\n",
        "\n",
        "\n",
        "\n",
        "\n",
        "\n",
        "\n",
        "\n",
        "Lembrete ao aplicar PCA nao so PCA\n",
        "\n",
        "quando eu calculo qualquer tipo de metrica, tipo a media de uma feature de treino e uso para fazer uma normalização, tenho que fazer exatamente o mesmo valor do treino, se o principal objetivo é generalização, temos que trat o conjunto de treino e de teste como s eot ezte e nunca tivesse visto na vida, se eu apliquei standscale ou pca, tenho que aplicar examentamente a mesma transformação no teste, mas nao posso recalcular, faço um fit no treino e faço um transformer no teste,\n",
        "\n",
        "\n",
        "é possivel reduzir o tempo de treinamento utilziando PCA\n",
        "importante tratar o conjmunto de treino como se nunca tivesse visto o conjunto de teste nao pdoe teer nenhuma informação (\n",
        "\n",
        "\n"
      ],
      "metadata": {
        "id": "ke-Sj9Oqg6vP"
      }
    },
    {
      "cell_type": "code",
      "execution_count": null,
      "metadata": {
        "id": "_DhrZ_Iig211"
      },
      "outputs": [],
      "source": [
        "#Exemplo com StandardScaler\n",
        "\n",
        "from sklearn.model_selection import train_test_split\n",
        "from sklearn.preprocessing import StandardScaler\n",
        "\n",
        "# Supor que X é o seu conjunto de dados e y são os rótulos\n",
        "X_train, X_test, y_train, y_test = train_test_split(X, y, test_size=0.2, random_state=42)\n"
      ]
    },
    {
      "cell_type": "code",
      "source": [
        "from sklearn.model_selection import train_test_split\n",
        "from sklearn.preprocessing import StandardScaler\n",
        "\n",
        "# Supor que X é o seu conjunto de dados e y são os rótulos\n",
        "X_train, X_test, y_train, y_test = train_test_split(X, y, test_size=0.2, random_state=42)\n"
      ],
      "metadata": {
        "id": "LodysHYAg4ch"
      },
      "execution_count": null,
      "outputs": []
    },
    {
      "cell_type": "code",
      "source": [
        "from sklearn.model_selection import train_test_split\n",
        "from sklearn.preprocessing import StandardScaler\n",
        "\n",
        "# Supor que X é o seu conjunto de dados e y são os rótulos\n",
        "X_train, X_test, y_train, y_test = train_test_split(X, y, test_size=0.2, random_state=42)\n"
      ],
      "metadata": {
        "id": "iYUBXmlaURjr"
      },
      "execution_count": null,
      "outputs": []
    },
    {
      "cell_type": "code",
      "source": [
        "from sklearn.decomposition import PCA\n",
        "\n",
        "# Supor que X é o seu conjunto de dados e y são os rótulos\n",
        "X_train, X_test, y_train, y_test = train_test_split(X, y, test_size=0.2, random_state=42)\n"
      ],
      "metadata": {
        "id": "lUQr7apsUTQu"
      },
      "execution_count": null,
      "outputs": []
    },
    {
      "cell_type": "code",
      "source": [
        "from sklearn.decomposition import PCA\n",
        "\n",
        "# Supor que X é o seu conjunto de dados e y são os rótulos\n",
        "X_train, X_test, y_train, y_test = train_test_split(X, y, test_size=0.2, random_state=42)\n"
      ],
      "metadata": {
        "id": "GkI4HnV9UZSy"
      },
      "execution_count": null,
      "outputs": []
    },
    {
      "cell_type": "code",
      "source": [
        "from sklearn.decomposition import PCA\n",
        "\n",
        "# Supor que X é o seu conjunto de dados e y são os rótulos\n",
        "X_train, X_test, y_train, y_test = train_test_split(X, y, test_size=0.2, random_state=42)\n"
      ],
      "metadata": {
        "id": "E87Lm1LlUbBQ"
      },
      "execution_count": null,
      "outputs": []
    },
    {
      "cell_type": "markdown",
      "source": [
        "Importância de Seguir Esse Procedimento\n",
        "Generalização: O principal objetivo é avaliar o desempenho do modelo em dados não vistos. Aplicar transformações baseadas em métricas calculadas no conjunto de treino garante que o modelo não tenha informações privilegiadas do conjunto de teste.\n",
        "Evitar Data Leakage: Recalcular métricas no conjunto de teste pode levar a vazamento de dados, onde o modelo obtém uma visão injusta do conjunto de teste durante o treinamento, resultando em uma avaliação enganosa do desempenho.\n",
        "Consistência: Mantém a consistência das transformações aplicadas entre os conjuntos de treino e teste.\n",
        "Conclusão\n",
        "Ao pré-processar dados para aprendizado de máquina, sempre ajuste (fit) os transformadores no conjunto de treino e aplique (transform) os mesmos transformadores ao conjunto de teste sem recalcular as métricas. Isso assegura que o modelo seja avaliado de forma justa e que a generalização para novos dados seja adequada."
      ],
      "metadata": {
        "id": "bJHa7HThUlyJ"
      }
    }
  ]
}