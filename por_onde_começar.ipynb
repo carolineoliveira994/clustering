{
  "nbformat": 4,
  "nbformat_minor": 0,
  "metadata": {
    "colab": {
      "private_outputs": true,
      "provenance": [],
      "authorship_tag": "ABX9TyNqn6izknTu95rbikoICn9w",
      "include_colab_link": true
    },
    "kernelspec": {
      "name": "python3",
      "display_name": "Python 3"
    },
    "language_info": {
      "name": "python"
    }
  },
  "cells": [
    {
      "cell_type": "markdown",
      "metadata": {
        "id": "view-in-github",
        "colab_type": "text"
      },
      "source": [
        "<a href=\"https://colab.research.google.com/github/carolineoliveira994/clustering/blob/main/por_onde_come%C3%A7ar.ipynb\" target=\"_parent\"><img src=\"https://colab.research.google.com/assets/colab-badge.svg\" alt=\"Open In Colab\"/></a>"
      ]
    },
    {
      "cell_type": "markdown",
      "source": [
        "sempre comece por um baseline (modelo mais simples)\n",
        "\n",
        "1. faz o minimo, aplica um algoritmo basicos, e calcula metricas\n",
        "2. a pártir dai melhorar pre processamento, algoritmo...\n",
        "\n"
      ],
      "metadata": {
        "id": "ke-Sj9Oqg6vP"
      }
    },
    {
      "cell_type": "code",
      "execution_count": null,
      "metadata": {
        "id": "_DhrZ_Iig211"
      },
      "outputs": [],
      "source": []
    },
    {
      "cell_type": "code",
      "source": [],
      "metadata": {
        "id": "LodysHYAg4ch"
      },
      "execution_count": null,
      "outputs": []
    }
  ]
}