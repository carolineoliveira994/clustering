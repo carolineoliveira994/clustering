{
  "nbformat": 4,
  "nbformat_minor": 0,
  "metadata": {
    "colab": {
      "private_outputs": true,
      "provenance": [],
      "authorship_tag": "ABX9TyOh6y5ttU5bRnE/5Hrv5CiM",
      "include_colab_link": true
    },
    "kernelspec": {
      "name": "python3",
      "display_name": "Python 3"
    },
    "language_info": {
      "name": "python"
    }
  },
  "cells": [
    {
      "cell_type": "markdown",
      "metadata": {
        "id": "view-in-github",
        "colab_type": "text"
      },
      "source": [
        "<a href=\"https://colab.research.google.com/github/carolineoliveira994/clustering/blob/main/KMeans_mini_batch.ipynb\" target=\"_parent\"><img src=\"https://colab.research.google.com/assets/colab-badge.svg\" alt=\"Open In Colab\"/></a>"
      ]
    },
    {
      "cell_type": "code",
      "execution_count": null,
      "metadata": {
        "id": "TwHoobfNdWxp"
      },
      "outputs": [],
      "source": [
        "import time\n",
        "import numpy as np\n",
        "import pandas as pd\n",
        "import seaborn as sns\n",
        "import matplotlib.pyplot as plt\n",
        "import matplotlib.colors\n",
        "\n",
        "\n",
        "\n",
        "from sklearn.cluster import KMeans, MiniBatchKMeans\n",
        "from sklearn.datasets import make_moons\n",
        "from sklearn.datasets import make_blobs\n",
        "\n",
        "%matplotlib inline\n",
        "\n",
        "sns.set(style='darkgrid', context='talk', rc={'figure.figsize': (14, 8)})\n"
      ]
    },
    {
      "cell_type": "markdown",
      "source": [],
      "metadata": {
        "id": "OK0Lt0kWd1ZG"
      }
    },
    {
      "cell_type": "code",
      "source": [
        "X, y = make_blobs(n_samples=1000, centers=7, n_features=2,\n",
        "                  random_state=33)\n",
        "df = pd.DataFrame(X, columns=['x', 'y'])\n",
        "df['label'] = y\n",
        "\n",
        "df.head()"
      ],
      "metadata": {
        "id": "MiCXYO_Odz84"
      },
      "execution_count": null,
      "outputs": []
    },
    {
      "cell_type": "code",
      "source": [
        "_ = sns.scatterplot(x='x', y='y', data=df, hue='label', palette='rainbow', legend=False)"
      ],
      "metadata": {
        "id": "yvUwAN_teqdL"
      },
      "execution_count": null,
      "outputs": []
    },
    {
      "cell_type": "code",
      "source": [
        "def train_and_plot(data, k=3, method='default', plot=True, verbose=0, random_state=133):\n",
        "  #Copiamos os daos e removemos a coluna label\n",
        "  data_copy = data.copy()\n",
        "  data_copy.drop(columns='label', inplace=True)\n",
        "\n",
        "  if method == 'minibatch':\n",
        "    model = MiniBatchKMeans(n_clusters=k, random_state=random_state, verbose=verbose)\n",
        "\n",
        "  else:\n",
        "    model = KMeans(n_clusters=k, random_state=random_state, verbose=verbose)\n",
        "\n",
        "  model.fit(data_copy)\n",
        "\n",
        "  if plot:\n",
        "    data_copy['cluster_labels'] = model.labels_\n",
        "    _ = sns.scatterplot(x='x', y='y', data=data_copy, hue='cluster_labels', palette='rainbow', legend=False)\n",
        "\n",
        "  centroids = model.cluster_centers_\n",
        "  centroids_x = centroids[:,0]\n",
        "  centroids_y = centroids[:,1]\n",
        "\n",
        "  _ = plt.scatter(centroids_x, centroids_y, color='black', s=100)\n",
        "\n",
        "  return model\n"
      ],
      "metadata": {
        "id": "p7ECiGXNfDpf"
      },
      "execution_count": null,
      "outputs": []
    },
    {
      "cell_type": "code",
      "source": [
        "start = time.time()\n",
        "clustering = train_and_plot(df, k=7)\n",
        "print('Inércia:', clustering.inertia_)\n",
        "print('Tempo (s):', time.time() - start)\n"
      ],
      "metadata": {
        "id": "QtVVzFmtgid0"
      },
      "execution_count": null,
      "outputs": []
    },
    {
      "cell_type": "markdown",
      "source": [
        "Mini Batch K-means"
      ],
      "metadata": {
        "id": "IQv99e6GgtAl"
      }
    },
    {
      "cell_type": "code",
      "source": [
        "start = time.time()\n",
        "clustering = train_and_plot(df, k=7, method='minibatch')\n",
        "print('Inércia:', clustering.inertia_)\n",
        "print('Tempo (s):', time.time() - start)"
      ],
      "metadata": {
        "id": "iWuc7vKAgsUR"
      },
      "execution_count": null,
      "outputs": []
    },
    {
      "cell_type": "code",
      "source": [
        "transformation = [[0.3, -0.3], [-1.2, 0.2]]\n",
        "\n",
        "X, y = make_blobs(n_samples=1000, centers=7, n_features=2,\n",
        "                  random_state=170)\n",
        "\n",
        "df_transformed = pd.DataFrame(np.dot(X, transformation), columns=['x', 'y'])\n",
        "df_transformed['label'] = y\n",
        "\n",
        "df_transformed.head()"
      ],
      "metadata": {
        "id": "US33x57Ug1yo"
      },
      "execution_count": null,
      "outputs": []
    },
    {
      "cell_type": "code",
      "source": [
        "_ = sns.scatterplot(x='x', y='y', data=df_transformed, hue='label', palette='rainbow', legend=False)"
      ],
      "metadata": {
        "id": "l68i7oYZhsOO"
      },
      "execution_count": null,
      "outputs": []
    },
    {
      "cell_type": "code",
      "source": [
        "start = time.time()\n",
        "clustering = train_and_plot(df_transformed, k=7)\n",
        "print('K-means')\n",
        "print('Inércia:', clustering.inertia_)\n",
        "print('Tempo (s):', time.time() - start)"
      ],
      "metadata": {
        "id": "950c9vbrhubh"
      },
      "execution_count": null,
      "outputs": []
    },
    {
      "cell_type": "code",
      "source": [
        "start = time.time()\n",
        "clustering = train_and_plot(df_transformed, k=7, method='minibatch')\n",
        "print('Mini Batch k-means')\n",
        "print('Inércia:', clustering.inertia_)\n",
        "print('Tempo (s):', time.time() - start)"
      ],
      "metadata": {
        "id": "7YuHwqRzhxjh"
      },
      "execution_count": null,
      "outputs": []
    },
    {
      "cell_type": "code",
      "source": [
        "X, y = make_blobs(n_samples=1000000, centers=7, n_features=2,\n",
        "                  random_state=33)\n",
        "\n",
        "df = pd.DataFrame(X, columns=['x', 'y'])\n",
        "df['label'] = y\n",
        "\n",
        "df.head()"
      ],
      "metadata": {
        "id": "7Emoq3jEh0Dv"
      },
      "execution_count": null,
      "outputs": []
    },
    {
      "cell_type": "code",
      "source": [
        "start = time.time()\n",
        "clustering = train_and_plot(df, k=7, plot=False)\n",
        "print('K-means')\n",
        "print('Inércia:', clustering.inertia_)\n",
        "print('Tempo (s):', time.time() - start)"
      ],
      "metadata": {
        "id": "dDP8SJ-Dh1qj"
      },
      "execution_count": null,
      "outputs": []
    },
    {
      "cell_type": "code",
      "source": [
        "start = time.time()\n",
        "clustering = train_and_plot(df, k=7, method='minibatch', plot=False)\n",
        "print('Mini Batch k-means')\n",
        "print('Inércia:', clustering.inertia_)\n",
        "print('Tempo (s):', time.time() - start)"
      ],
      "metadata": {
        "id": "opB4pBnHh3JS"
      },
      "execution_count": null,
      "outputs": []
    },
    {
      "cell_type": "code",
      "source": [
        "X, y = make_blobs(n_samples=10000000, centers=7, n_features=2,\n",
        "                  random_state=33)\n",
        "\n",
        "df = pd.DataFrame(X, columns=['x', 'y'])\n",
        "df['label'] = y\n",
        "\n",
        "df.head()"
      ],
      "metadata": {
        "id": "Ncn9sWAvh59m"
      },
      "execution_count": null,
      "outputs": []
    },
    {
      "cell_type": "code",
      "source": [
        "start = time.time()\n",
        "clustering = train_and_plot(df, k=7, method='minibatch', plot=False)\n",
        "print('Mini Batch k-means')\n",
        "print('Inércia:', clustering.inertia_)\n",
        "print('Tempo (s):', time.time() - start)"
      ],
      "metadata": {
        "id": "vaNWBkmah9Bj"
      },
      "execution_count": null,
      "outputs": []
    }
  ]
}