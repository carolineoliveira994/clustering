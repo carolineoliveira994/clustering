{
  "nbformat": 4,
  "nbformat_minor": 0,
  "metadata": {
    "colab": {
      "private_outputs": true,
      "provenance": [],
      "authorship_tag": "ABX9TyNWmbsrd44tw8bvygmIZcec",
      "include_colab_link": true
    },
    "kernelspec": {
      "name": "python3",
      "display_name": "Python 3"
    },
    "language_info": {
      "name": "python"
    }
  },
  "cells": [
    {
      "cell_type": "markdown",
      "metadata": {
        "id": "view-in-github",
        "colab_type": "text"
      },
      "source": [
        "<a href=\"https://colab.research.google.com/github/carolineoliveira994/clustering/blob/main/dbscan_1.ipynb\" target=\"_parent\"><img src=\"https://colab.research.google.com/assets/colab-badge.svg\" alt=\"Open In Colab\"/></a>"
      ]
    },
    {
      "cell_type": "code",
      "execution_count": null,
      "metadata": {
        "id": "PrDdUTjMKCE2"
      },
      "outputs": [],
      "source": []
    },
    {
      "cell_type": "markdown",
      "source": [],
      "metadata": {
        "id": "9KU22gStKiL_"
      }
    },
    {
      "cell_type": "code",
      "source": [],
      "metadata": {
        "id": "isZNgnJfTq-n"
      },
      "execution_count": null,
      "outputs": []
    },
    {
      "cell_type": "code",
      "source": [
        "np.unique(label, return_counts=True)"
      ],
      "metadata": {
        "id": "nU548ScVKrCr"
      },
      "execution_count": null,
      "outputs": []
    },
    {
      "cell_type": "code",
      "source": [
        "from sklearn.datasets import make_blobs\n",
        "from sklearn.cluster import DBSCAN\n",
        "import pandas as pd\n",
        "import seaborn as sns\n",
        "import numpy as np\n",
        "\n"
      ],
      "metadata": {
        "id": "UBcUHmkzKi7g"
      },
      "execution_count": null,
      "outputs": []
    },
    {
      "cell_type": "code",
      "source": [
        "# Gerar dados de exemplo\n",
        "X, y = make_blobs(n_samples=1000, centers=7, n_features=2, random_state=33)\n",
        "\n",
        "# Aplicar o algoritmo de clustering DBSCAN\n",
        "dbscan = DBSCAN(eps=0.5, min_samples=5)\n",
        "clusters = dbscan.fit_predict(X)\n",
        "\n",
        "# Criar DataFrame com os dados e os rótulos\n",
        "df = pd.DataFrame(X, columns=['x', 'y'])\n",
        "df['label'] = clusters\n",
        "\n",
        "# Plotar o gráfico de dispersão com cores diferenciadas pelo rótulo\n",
        "_ = sns.scatterplot(x='x', y='y', data=df, hue='label', palette='rainbow', legend=False)\n"
      ],
      "metadata": {
        "id": "ollwrfVKY4eZ"
      },
      "execution_count": null,
      "outputs": []
    },
    {
      "cell_type": "code",
      "source": [
        "def train_and_plot(data, eps=0.5, min_samples=5):\n",
        "\n",
        "\n",
        "  #copiar os dados e remover a coluna label\n",
        "  data_copy = data.copy()\n",
        "  data_copy.drop(columns='label', inplace=True)\n",
        "\n",
        "  model = DBSCAN(eps=eps, min_samples=min_samples)\n",
        "  model.fit(data_copy)\n",
        "\n",
        "  data_copy['cluster_labels'] = model.labels_\n",
        "  _ = sns.scatterplot(x=data_copy['x'], y=data_copy['y'], hue=data_copy['cluster_labels'], palette='rainbow')\n",
        "  return model.labels_"
      ],
      "metadata": {
        "id": "igpjS419Y7g-"
      },
      "execution_count": null,
      "outputs": []
    },
    {
      "cell_type": "code",
      "source": [
        "eps = 0.5\n",
        "min_samples = 5\n",
        "labels = train_and_plot(df, eps, min_samples)"
      ],
      "metadata": {
        "id": "UMeQ4CHAd3T9"
      },
      "execution_count": null,
      "outputs": []
    },
    {
      "cell_type": "code",
      "source": [
        "np.unique(labels, return_counts=True)"
      ],
      "metadata": {
        "id": "yi_WAswZeJ_A"
      },
      "execution_count": null,
      "outputs": []
    },
    {
      "cell_type": "code",
      "source": [
        "eps = 0.5\n",
        "min_samples = 6\n",
        "\n",
        "labels = train_and_plot(df, eps, min_samples)"
      ],
      "metadata": {
        "id": "wgavmHJeeLgK"
      },
      "execution_count": null,
      "outputs": []
    },
    {
      "cell_type": "code",
      "source": [
        "np.unique(labels, return_counts=True)"
      ],
      "metadata": {
        "id": "RJpwTBkJeNKG"
      },
      "execution_count": null,
      "outputs": []
    },
    {
      "cell_type": "code",
      "source": [
        "eps = 0.5\n",
        "min_samples = 3\n",
        "\n",
        "labels = train_and_plot(df, eps, min_samples)"
      ],
      "metadata": {
        "id": "vQ-G_6q0eOtC"
      },
      "execution_count": null,
      "outputs": []
    },
    {
      "cell_type": "code",
      "source": [
        "np.unique(labels, return_counts=True)"
      ],
      "metadata": {
        "id": "VgMa6i2heQaC"
      },
      "execution_count": null,
      "outputs": []
    },
    {
      "cell_type": "code",
      "source": [
        "eps = 1.0\n",
        "min_samples = 5\n",
        "\n",
        "labels = train_and_plot(df, eps, min_samples)"
      ],
      "metadata": {
        "id": "a7-PJnhJeRtX"
      },
      "execution_count": null,
      "outputs": []
    },
    {
      "cell_type": "code",
      "source": [
        "print(np.unique(labels))"
      ],
      "metadata": {
        "id": "nhe06feveTQo"
      },
      "execution_count": null,
      "outputs": []
    },
    {
      "cell_type": "code",
      "source": [
        "transformation = [[0.3, -0.3], [-1.2, 0.2]]\n",
        "\n",
        "X, y = make_blobs(n_samples=1000, centers=7, n_features=2,\n",
        "                  random_state=170)\n",
        "\n",
        "df_transformed = pd.DataFrame(np.dot(X, transformation), columns=['x', 'y'])\n",
        "df_transformed['label'] = y\n",
        "\n",
        "df_transformed.head()"
      ],
      "metadata": {
        "id": "s3-WrX4zeU28"
      },
      "execution_count": null,
      "outputs": []
    },
    {
      "cell_type": "code",
      "source": [
        "_ = sns.scatterplot(x='x', y='y', data=df_transformed, hue='label', palette='rainbow', legend=False)"
      ],
      "metadata": {
        "id": "fJYxRalZeWcW"
      },
      "execution_count": null,
      "outputs": []
    },
    {
      "cell_type": "code",
      "source": [
        "labels = train_and_plot(df_transformed, eps=0.4, min_samples=5)"
      ],
      "metadata": {
        "id": "3u71fs4IeYLH"
      },
      "execution_count": null,
      "outputs": []
    },
    {
      "cell_type": "code",
      "source": [
        "X, y = make_moons(300, noise=.05, random_state=33)\n",
        "\n",
        "df_moon = pd.DataFrame(X, columns=['x', 'y'])\n",
        "df_moon['label'] = y\n",
        "\n",
        "df_moon.head()"
      ],
      "metadata": {
        "id": "tkx8gYk5ebBa"
      },
      "execution_count": null,
      "outputs": []
    },
    {
      "cell_type": "code",
      "source": [
        "_ = sns.scatterplot(x='x', y='y', data=df_moon, hue='label', palette='rainbow', legend=False)"
      ],
      "metadata": {
        "id": "sjQGwmB7ecwf"
      },
      "execution_count": null,
      "outputs": []
    },
    {
      "cell_type": "code",
      "source": [
        "labels = train_and_plot(df_moon, eps=0.3, min_samples=5)"
      ],
      "metadata": {
        "id": "NdsusGqPeegS"
      },
      "execution_count": null,
      "outputs": []
    },
    {
      "cell_type": "code",
      "source": [
        "labels = train_and_plot(df_moon, eps=0.6, min_samples=60)"
      ],
      "metadata": {
        "id": "KQvZ_0dpegJJ"
      },
      "execution_count": null,
      "outputs": []
    },
    {
      "cell_type": "code",
      "source": [
        "X, y = make_blobs(1500, cluster_std=[1.0, 2.5, 0.5], random_state=170)\n",
        "\n",
        "df_varied = pd.DataFrame(X, columns=['x', 'y'])\n",
        "df_varied['label'] = y\n",
        "\n",
        "df_varied.head()"
      ],
      "metadata": {
        "id": "fUXW6Gtneh3e"
      },
      "execution_count": null,
      "outputs": []
    },
    {
      "cell_type": "code",
      "source": [
        "_ = sns.scatterplot(x='x', y='y', data=df_varied, hue='label', palette='rainbow', legend=False)"
      ],
      "metadata": {
        "id": "AA20stqYej1Q"
      },
      "execution_count": null,
      "outputs": []
    },
    {
      "cell_type": "code",
      "source": [
        "train_and_plot(df_varied, eps=0.65, min_samples=9)"
      ],
      "metadata": {
        "id": "LB8Q3np1euW8"
      },
      "execution_count": null,
      "outputs": []
    },
    {
      "cell_type": "code",
      "source": [
        "train_and_plot(df_varied, eps=0.7, min_samples=6)"
      ],
      "metadata": {
        "id": "ooXY4EdHewH6"
      },
      "execution_count": null,
      "outputs": []
    },
    {
      "cell_type": "code",
      "source": [
        "train_and_plot(df_varied, eps=1.0, min_samples=6)"
      ],
      "metadata": {
        "id": "xaOZaxd-eyEH"
      },
      "execution_count": null,
      "outputs": []
    }
  ]
}